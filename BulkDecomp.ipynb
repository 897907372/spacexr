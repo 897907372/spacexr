{
 "cells": [
  {
   "cell_type": "code",
   "execution_count": 35,
   "metadata": {},
   "outputs": [
    {
     "name": "stderr",
     "output_type": "stream",
     "text": [
      "/Users/dcable/anaconda3/lib/python3.7/site-packages/ipykernel_launcher.py:8: YAMLLoadWarning: calling yaml.load() without Loader=... is deprecated, as the default Loader is unsafe. Please read https://msg.pyyaml.org/load for full details.\n",
      "  \n"
     ]
    }
   ],
   "source": [
    "import tensorflow.compat.v1 as tf\n",
    "tf.disable_v2_behavior()\n",
    "import pandas as pd\n",
    "import yaml\n",
    "import os\n",
    "\n",
    "with open(\"config.yml\", 'r') as ymlfile:\n",
    "    cfg = yaml.load(ymlfile)\n",
    "\n",
    "#import data\n",
    "bulkdir = \"Data/Slideseq/\" + cfg['default']['slideseqfolder'] + \"/results/Bulk\"\n",
    "X = pd.read_csv(os.path.join(bulkdir, \"X_bulk.csv\"))\n",
    "b = pd.read_csv(os.path.join(bulkdir, \"b_bulk.csv\"))\n",
    "cell_type_names = X.columns[1:]\n",
    "X = X.iloc[:,1:].to_numpy()\n",
    "b = b.iloc[:,1].to_numpy()"
   ]
  },
  {
   "cell_type": "code",
   "execution_count": 36,
   "metadata": {},
   "outputs": [],
   "source": [
    "#define the model\n",
    "class Model(object):\n",
    "  def __init__(self):\n",
    "    self.N = len(cell_type_names)\n",
    "    self.w = tf.Variable([1/self.N for i in range(self.N)])\n",
    "\n",
    "  def __call__(self, x):\n",
    "    return tf.tensordot(x[0:(self.N)],tf.abs(self.w)/tf.math.reduce_sum(tf.abs(self.w)),1)\n",
    "    \n",
    "  def predict_batch(self, x):\n",
    "    return tf.linalg.matvec(x[:,0:(self.N)],tf.abs(self.w)/tf.math.reduce_sum(tf.abs(self.w))) \n",
    "\n",
    "def loss(predicted_y, target_y):\n",
    "  return tf.math.reduce_sum(tf.square(tf.math.log(predicted_y) - tf.math.log(target_y)))\n",
    "\n",
    "model = Model()"
   ]
  },
  {
   "cell_type": "code",
   "execution_count": 37,
   "metadata": {},
   "outputs": [],
   "source": [
    "#create the loss function\n",
    "X_var = tf.compat.v1.placeholder(\"float32\") \n",
    "Y_var = tf.compat.v1.placeholder(\"float32\") \n",
    "my_loss = loss(model(X_var),Y_var)\n",
    "batch_loss = loss(model.predict_batch(X_var),Y_var)\n",
    "optimizer = tf.train.AdamOptimizer(1e-5).minimize(my_loss)\n",
    "init = tf.global_variables_initializer() \n"
   ]
  },
  {
   "cell_type": "code",
   "execution_count": 38,
   "metadata": {},
   "outputs": [
    {
     "name": "stdout",
     "output_type": "stream",
     "text": [
      "Epoch 10 : cost = 11685.008 w = [0.1047136  0.10232875 0.09057199 0.03389134 0.10383951 0.01406264\n",
      " 0.09378739 0.05748312 0.03797298 0.07770702 0.03964967 0.00702102\n",
      " 0.0032611  0.12053379 0.12671639 0.07108006 0.02295061 0.09482143\n",
      " 0.04525581]\n",
      "Epoch 20 : cost = 10932.791 w = [ 1.19655155e-01  1.20011739e-01  8.85331407e-02  6.72862539e-03\n",
      "  1.29327506e-01 -8.47126998e-04  1.10884517e-01  3.01384050e-02\n",
      "  6.14557648e-03  7.81283751e-02  3.28940689e-03  4.65672892e-05\n",
      "  2.93702673e-04  1.53897688e-01  1.67656958e-01  6.90797269e-02\n",
      "  6.08184200e-04  1.10063151e-01  1.86175294e-02]\n",
      "Epoch 30 : cost = 10782.589 w = [ 1.23021282e-01  1.27888843e-01  7.43584409e-02 -4.48991312e-04\n",
      "  1.43384710e-01  1.23399915e-03  1.18084431e-01  4.13066661e-03\n",
      " -1.72170345e-04  7.25509599e-02  2.50306184e-04  3.70631569e-05\n",
      "  2.78649677e-04  1.75679922e-01  1.97126284e-01  6.37561083e-02\n",
      "  9.70406982e-04  1.16375774e-01  3.27669736e-03]\n",
      "Epoch 40 : cost = 10751.25 w = [ 1.23968594e-01  1.33227348e-01  5.75784966e-02 -4.69855324e-04\n",
      "  1.53733149e-01  1.28939713e-03  1.22396037e-01  1.81368945e-04\n",
      " -1.75075606e-04  6.72309697e-02  2.94559868e-04 -5.79534462e-05\n",
      " -2.74697988e-04  1.94644660e-01  2.23485097e-01  5.96429966e-02\n",
      "  1.05782389e-03  1.20719291e-01  1.69299799e-03]\n",
      "Epoch 50 : cost = 10722.796 w = [ 1.24209285e-01  1.37699053e-01  3.94963846e-02  4.59665054e-04\n",
      "  1.62312627e-01  1.33019639e-03  1.25602946e-01 -1.97932794e-04\n",
      "  1.48132094e-04  6.23791702e-02  3.12802236e-04  4.34277754e-05\n",
      "  2.74949241e-04  2.12067515e-01  2.47995004e-01  5.70019111e-02\n",
      "  1.12666050e-03  1.24077082e-01  1.75815739e-03]\n",
      "Epoch 60 : cost = 10696.171 w = [ 1.2387756e-01  1.4146011e-01  2.0730197e-02  4.8493428e-04\n",
      "  1.6939615e-01  1.3626475e-03  1.2793396e-01 -2.2702792e-04\n",
      "  1.2383565e-04  5.8000542e-02 -3.0746884e-04 -6.9006222e-05\n",
      "  2.7501446e-04  2.2806530e-01  2.7078661e-01  5.5347059e-02\n",
      "  1.2165142e-03  1.2653524e-01  1.8793165e-03]\n",
      "Epoch 70 : cost = 10672.178 w = [ 1.23069845e-01  1.44611463e-01  2.95805023e-03  4.96703899e-04\n",
      "  1.75153375e-01  1.39280083e-03  1.29506737e-01  2.97621445e-04\n",
      " -1.13842390e-04  5.41255288e-02 -3.07321257e-04  8.26633041e-05\n",
      "  2.86808587e-04  2.42663965e-01  2.91975409e-01  5.43039180e-02\n",
      "  1.34131324e-03  1.28112048e-01  2.02132994e-03]\n",
      "Epoch 80 : cost = 10663.004 w = [ 1.2209365e-01  1.4736864e-01 -6.6510437e-04  4.9769989e-04\n",
      "  1.8009423e-01  1.4358812e-03  1.3078915e-01  2.4974954e-04\n",
      "  1.1034483e-04  5.0782312e-02 -3.0321474e-04 -8.0919825e-05\n",
      " -3.0120360e-04  2.5592867e-01  3.1177104e-01  5.3837545e-02\n",
      "  1.4151293e-03  1.2888150e-01  2.1272099e-03]\n",
      "Epoch 90 : cost = 10657.08 w = [ 1.2135009e-01  1.5007992e-01 -6.2181277e-04  4.9884076e-04\n",
      "  1.8464640e-01  1.4807276e-03  1.3224454e-01  2.5672154e-04\n",
      "  1.0915707e-04  4.8056234e-02  3.2371798e-04 -8.1207938e-05\n",
      " -2.9700977e-04  2.6809666e-01  3.3049652e-01  5.3971127e-02\n",
      "  1.4561289e-03  1.2907304e-01  2.2053530e-03]\n",
      "Epoch 100 : cost = 10652.286 w = [ 1.2086949e-01  1.5280837e-01 -5.8049412e-04  4.9735169e-04\n",
      "  1.8889360e-01  1.5220252e-03  1.3386056e-01 -2.6434741e-04\n",
      "  1.2294915e-04  4.5918789e-02  3.1967511e-04  8.0072561e-05\n",
      "  3.0182052e-04  2.7933407e-01  3.4834570e-01  5.4493610e-02\n",
      "  1.4909846e-03  1.2882839e-01  2.2817361e-03]\n",
      "Epoch 110 : cost = 10648.111 w = [ 1.2064718e-01  1.5557984e-01 -5.5784301e-04  4.9728801e-04\n",
      "  1.9289935e-01  1.5633880e-03  1.3563056e-01 -2.4908065e-04\n",
      "  1.2569485e-04  4.4301130e-02 -2.9826633e-04 -7.9678226e-05\n",
      "  2.9070844e-04  2.8979334e-01  3.6545441e-01  5.5262599e-02\n",
      "  1.5333509e-03  1.2825555e-01  2.3536673e-03]\n",
      "Epoch 120 : cost = 10644.676 w = [ 1.20659046e-01  1.58401132e-01  5.23198629e-04  4.95849294e-04\n",
      "  1.96714148e-01  1.60205294e-03  1.37535706e-01  2.43403614e-04\n",
      "  1.06281630e-04  4.31261435e-02 -2.93427904e-04 -8.70468357e-05\n",
      "  2.87455216e-04  2.99578220e-01  3.81924957e-01  5.61848022e-02\n",
      "  1.56875572e-03  1.27442434e-01  2.42232089e-03]\n",
      "Epoch 130 : cost = 10641.739 w = [ 1.20877534e-01  1.61271676e-01  4.97905596e-04  4.96764726e-04\n",
      "  2.00377822e-01  1.63897721e-03  1.39558077e-01  2.19693335e-04\n",
      " -1.02753656e-04  4.23155129e-02  3.00347310e-04 -8.67672643e-05\n",
      "  2.90768046e-04  3.08779508e-01  3.97868276e-01  5.71966618e-02\n",
      "  1.60071184e-03  1.26455411e-01  2.48619635e-03]\n",
      "Epoch 140 : cost = 10639.046 w = [ 1.2127458e-01  1.6418770e-01 -4.7856214e-04 -5.2288495e-04\n",
      "  2.0392315e-01  1.6718475e-03  1.4167982e-01 -2.1505637e-04\n",
      "  9.9634053e-05  4.1799579e-02  2.9740669e-04  8.5210144e-05\n",
      "  2.7934730e-04  3.1747240e-01  4.1335267e-01  5.8244057e-02\n",
      "  1.6306230e-03  1.2535338e-01  2.5441407e-03]\n",
      "Epoch 150 : cost = 10636.917 w = [ 1.21824399e-01  1.67134747e-01 -4.68039885e-04 -5.20556408e-04\n",
      "  2.07368523e-01  1.70640100e-03  1.43882483e-01  2.08833779e-04\n",
      " -1.25197635e-04  4.15166765e-02  2.94670579e-04  9.24228880e-05\n",
      "  2.80142413e-04  3.25724334e-01  4.28433329e-01  5.92936948e-02\n",
      "  1.66040997e-03  1.24185786e-01  2.59862258e-03]\n",
      "Epoch 160 : cost = 10634.915 w = [ 1.22502118e-01  1.70103207e-01  4.36471513e-04 -5.18569082e-04\n",
      "  2.10728183e-01  1.73963583e-03  1.46154970e-01  2.30678765e-04\n",
      " -1.09141896e-04  4.14139777e-02 -2.82582652e-04  9.08722504e-05\n",
      "  2.81439949e-04  3.33572835e-01  4.43172842e-01  6.03728704e-02\n",
      "  1.69100228e-03  1.22982636e-01  2.65151286e-03]\n",
      "Epoch 170 : cost = 10633.164 w = [ 1.23283662e-01  1.73089460e-01  4.19172022e-04 -5.16497239e-04\n",
      "  2.14016780e-01  1.77152443e-03  1.48490205e-01 -2.27184122e-04\n",
      " -1.04071310e-04  4.14524488e-02  2.91331118e-04 -9.21871178e-05\n",
      "  2.81929038e-04  3.41065317e-01  4.57597822e-01  6.14649951e-02\n",
      "  1.71664346e-03  1.21774025e-01  2.70181685e-03]\n"
     ]
    },
    {
     "ename": "KeyboardInterrupt",
     "evalue": "",
     "output_type": "error",
     "traceback": [
      "\u001b[0;31m---------------------------------------------------------------------------\u001b[0m",
      "\u001b[0;31mKeyboardInterrupt\u001b[0m                         Traceback (most recent call last)",
      "\u001b[0;32m<ipython-input-38-062a2546054d>\u001b[0m in \u001b[0;36m<module>\u001b[0;34m\u001b[0m\n\u001b[1;32m     11\u001b[0m         \u001b[0;31m# Feeding each data point into the optimizer using Feed Dictionary\u001b[0m\u001b[0;34m\u001b[0m\u001b[0;34m\u001b[0m\u001b[0;34m\u001b[0m\u001b[0m\n\u001b[1;32m     12\u001b[0m         \u001b[0;32mfor\u001b[0m \u001b[0;34m(\u001b[0m\u001b[0m_x\u001b[0m\u001b[0;34m,\u001b[0m \u001b[0m_y\u001b[0m\u001b[0;34m)\u001b[0m \u001b[0;32min\u001b[0m \u001b[0mzip\u001b[0m\u001b[0;34m(\u001b[0m\u001b[0mX\u001b[0m\u001b[0;34m,\u001b[0m \u001b[0mb\u001b[0m\u001b[0;34m)\u001b[0m\u001b[0;34m:\u001b[0m\u001b[0;34m\u001b[0m\u001b[0;34m\u001b[0m\u001b[0m\n\u001b[0;32m---> 13\u001b[0;31m             \u001b[0msess\u001b[0m\u001b[0;34m.\u001b[0m\u001b[0mrun\u001b[0m\u001b[0;34m(\u001b[0m\u001b[0moptimizer\u001b[0m\u001b[0;34m,\u001b[0m \u001b[0mfeed_dict\u001b[0m \u001b[0;34m=\u001b[0m \u001b[0;34m{\u001b[0m\u001b[0mX_var\u001b[0m \u001b[0;34m:\u001b[0m \u001b[0m_x\u001b[0m\u001b[0;34m,\u001b[0m \u001b[0mY_var\u001b[0m \u001b[0;34m:\u001b[0m \u001b[0m_y\u001b[0m\u001b[0;34m}\u001b[0m\u001b[0;34m)\u001b[0m\u001b[0;34m\u001b[0m\u001b[0;34m\u001b[0m\u001b[0m\n\u001b[0m\u001b[1;32m     14\u001b[0m \u001b[0;34m\u001b[0m\u001b[0m\n\u001b[1;32m     15\u001b[0m         \u001b[0;31m# Displaying the result after every 5 epochs\u001b[0m\u001b[0;34m\u001b[0m\u001b[0;34m\u001b[0m\u001b[0;34m\u001b[0m\u001b[0m\n",
      "\u001b[0;32m~/anaconda3/lib/python3.7/site-packages/tensorflow_core/python/client/session.py\u001b[0m in \u001b[0;36mrun\u001b[0;34m(self, fetches, feed_dict, options, run_metadata)\u001b[0m\n\u001b[1;32m    958\u001b[0m     \u001b[0;32mtry\u001b[0m\u001b[0;34m:\u001b[0m\u001b[0;34m\u001b[0m\u001b[0;34m\u001b[0m\u001b[0m\n\u001b[1;32m    959\u001b[0m       result = self._run(None, fetches, feed_dict, options_ptr,\n\u001b[0;32m--> 960\u001b[0;31m                          run_metadata_ptr)\n\u001b[0m\u001b[1;32m    961\u001b[0m       \u001b[0;32mif\u001b[0m \u001b[0mrun_metadata\u001b[0m\u001b[0;34m:\u001b[0m\u001b[0;34m\u001b[0m\u001b[0;34m\u001b[0m\u001b[0m\n\u001b[1;32m    962\u001b[0m         \u001b[0mproto_data\u001b[0m \u001b[0;34m=\u001b[0m \u001b[0mtf_session\u001b[0m\u001b[0;34m.\u001b[0m\u001b[0mTF_GetBuffer\u001b[0m\u001b[0;34m(\u001b[0m\u001b[0mrun_metadata_ptr\u001b[0m\u001b[0;34m)\u001b[0m\u001b[0;34m\u001b[0m\u001b[0;34m\u001b[0m\u001b[0m\n",
      "\u001b[0;32m~/anaconda3/lib/python3.7/site-packages/tensorflow_core/python/client/session.py\u001b[0m in \u001b[0;36m_run\u001b[0;34m(self, handle, fetches, feed_dict, options, run_metadata)\u001b[0m\n\u001b[1;32m   1181\u001b[0m     \u001b[0;32mif\u001b[0m \u001b[0mfinal_fetches\u001b[0m \u001b[0;32mor\u001b[0m \u001b[0mfinal_targets\u001b[0m \u001b[0;32mor\u001b[0m \u001b[0;34m(\u001b[0m\u001b[0mhandle\u001b[0m \u001b[0;32mand\u001b[0m \u001b[0mfeed_dict_tensor\u001b[0m\u001b[0;34m)\u001b[0m\u001b[0;34m:\u001b[0m\u001b[0;34m\u001b[0m\u001b[0;34m\u001b[0m\u001b[0m\n\u001b[1;32m   1182\u001b[0m       results = self._do_run(handle, final_targets, final_fetches,\n\u001b[0;32m-> 1183\u001b[0;31m                              feed_dict_tensor, options, run_metadata)\n\u001b[0m\u001b[1;32m   1184\u001b[0m     \u001b[0;32melse\u001b[0m\u001b[0;34m:\u001b[0m\u001b[0;34m\u001b[0m\u001b[0;34m\u001b[0m\u001b[0m\n\u001b[1;32m   1185\u001b[0m       \u001b[0mresults\u001b[0m \u001b[0;34m=\u001b[0m \u001b[0;34m[\u001b[0m\u001b[0;34m]\u001b[0m\u001b[0;34m\u001b[0m\u001b[0;34m\u001b[0m\u001b[0m\n",
      "\u001b[0;32m~/anaconda3/lib/python3.7/site-packages/tensorflow_core/python/client/session.py\u001b[0m in \u001b[0;36m_do_run\u001b[0;34m(self, handle, target_list, fetch_list, feed_dict, options, run_metadata)\u001b[0m\n\u001b[1;32m   1340\u001b[0m     \"\"\"\n\u001b[1;32m   1341\u001b[0m     \u001b[0;31m# pylint: disable=protected-access\u001b[0m\u001b[0;34m\u001b[0m\u001b[0;34m\u001b[0m\u001b[0;34m\u001b[0m\u001b[0m\n\u001b[0;32m-> 1342\u001b[0;31m     \u001b[0mfeeds\u001b[0m \u001b[0;34m=\u001b[0m \u001b[0mdict\u001b[0m\u001b[0;34m(\u001b[0m\u001b[0;34m(\u001b[0m\u001b[0mt\u001b[0m\u001b[0;34m.\u001b[0m\u001b[0mderef\u001b[0m\u001b[0;34m(\u001b[0m\u001b[0;34m)\u001b[0m\u001b[0;34m.\u001b[0m\u001b[0m_as_tf_output\u001b[0m\u001b[0;34m(\u001b[0m\u001b[0;34m)\u001b[0m\u001b[0;34m,\u001b[0m \u001b[0mv\u001b[0m\u001b[0;34m)\u001b[0m \u001b[0;32mfor\u001b[0m \u001b[0mt\u001b[0m\u001b[0;34m,\u001b[0m \u001b[0mv\u001b[0m \u001b[0;32min\u001b[0m \u001b[0mfeed_dict\u001b[0m\u001b[0;34m.\u001b[0m\u001b[0mitems\u001b[0m\u001b[0;34m(\u001b[0m\u001b[0;34m)\u001b[0m\u001b[0;34m)\u001b[0m\u001b[0;34m\u001b[0m\u001b[0;34m\u001b[0m\u001b[0m\n\u001b[0m\u001b[1;32m   1343\u001b[0m     \u001b[0mfetches\u001b[0m \u001b[0;34m=\u001b[0m \u001b[0;34m[\u001b[0m\u001b[0mt\u001b[0m\u001b[0;34m.\u001b[0m\u001b[0m_as_tf_output\u001b[0m\u001b[0;34m(\u001b[0m\u001b[0;34m)\u001b[0m \u001b[0;32mfor\u001b[0m \u001b[0mt\u001b[0m \u001b[0;32min\u001b[0m \u001b[0mfetch_list\u001b[0m\u001b[0;34m]\u001b[0m\u001b[0;34m\u001b[0m\u001b[0;34m\u001b[0m\u001b[0m\n\u001b[1;32m   1344\u001b[0m     \u001b[0mtargets\u001b[0m \u001b[0;34m=\u001b[0m \u001b[0;34m[\u001b[0m\u001b[0mop\u001b[0m\u001b[0;34m.\u001b[0m\u001b[0m_c_op\u001b[0m \u001b[0;32mfor\u001b[0m \u001b[0mop\u001b[0m \u001b[0;32min\u001b[0m \u001b[0mtarget_list\u001b[0m\u001b[0;34m]\u001b[0m\u001b[0;34m\u001b[0m\u001b[0;34m\u001b[0m\u001b[0m\n",
      "\u001b[0;31mKeyboardInterrupt\u001b[0m: "
     ]
    }
   ],
   "source": [
    "#train the model\n",
    "training_epochs = 500\n",
    "with tf.Session() as sess: \n",
    "     \n",
    "    # Initializing the Variables \n",
    "    sess.run(init) \n",
    "      \n",
    "    # Iterating through all the epochs \n",
    "    for epoch in range(training_epochs): \n",
    "          \n",
    "        # Feeding each data point into the optimizer using Feed Dictionary \n",
    "        for (_x, _y) in zip(X, b): \n",
    "            sess.run(optimizer, feed_dict = {X_var : _x, Y_var : _y}) \n",
    "          \n",
    "        # Displaying the result after every 5 epochs \n",
    "        if (epoch + 1) % 10 == 0: \n",
    "            # Calculating the cost a every epoch \n",
    "            c = sess.run(batch_loss, feed_dict = {X_var : X, Y_var : b}) \n",
    "            print(\"Epoch\", (epoch + 1), \": cost =\", c, \"w =\", sess.run(model.w)) \n",
    "      \n",
    "    # Storing necessary values to be used outside the Session \n",
    "    training_cost = sess.run(batch_loss, feed_dict = {X_var : X, Y_var : b}) \n",
    "    weight = sess.run(model.w) \n"
   ]
  },
  {
   "cell_type": "code",
   "execution_count": 21,
   "metadata": {},
   "outputs": [],
   "source": [
    "weight_df = pd.DataFrame(abs(weight),index=cell_type_names,columns=[\"Weight\"])\n",
    "weight_df.to_csv(os.path.join(bulkdir, \"weights.csv\"))\n"
   ]
  },
  {
   "cell_type": "code",
   "execution_count": 52,
   "metadata": {},
   "outputs": [
    {
     "data": {
      "text/plain": [
       "array([ 7.30147038e-02,  1.02512169e-01,  2.48254477e-04, -3.05895301e-04,\n",
       "        1.26751360e-01,  1.04918470e-03,  8.79432697e-02, -1.34549713e-04,\n",
       "       -6.16361953e-05,  2.45501977e-02,  1.72540748e-04, -5.45977868e-05,\n",
       "        1.66972370e-04,  2.01995809e-01,  2.71012143e-01,  3.64026209e-02,\n",
       "        1.01668146e-03,  7.21206218e-02,  1.60015004e-03])"
      ]
     },
     "execution_count": 52,
     "metadata": {},
     "output_type": "execute_result"
    }
   ],
   "source": [
    "import numpy as np\n",
    "weight = [ 1.23283662e-01,  1.73089460e-01 , 4.19172022e-04, -5.16497239e-04,\n",
    "  2.14016780e-01  ,1.77152443e-03,  1.48490205e-01 ,-2.27184122e-04,\n",
    " -1.04071310e-04  ,4.14524488e-02 , 2.91331118e-04 ,-9.21871178e-05,\n",
    "  2.81929038e-04 , 3.41065317e-01  ,4.57597822e-01,  6.14649951e-02,\n",
    "  1.71664346e-03,  1.21774025e-01  ,2.70181685e-03]\n",
    "np.array(weight) / sum(weight)"
   ]
  },
  {
   "cell_type": "code",
   "execution_count": null,
   "metadata": {},
   "outputs": [],
   "source": []
  }
 ],
 "metadata": {
  "kernelspec": {
   "display_name": "Python 3",
   "language": "python",
   "name": "python3"
  },
  "language_info": {
   "codemirror_mode": {
    "name": "ipython",
    "version": 3
   },
   "file_extension": ".py",
   "mimetype": "text/x-python",
   "name": "python",
   "nbconvert_exporter": "python",
   "pygments_lexer": "ipython3",
   "version": "3.7.3"
  }
 },
 "nbformat": 4,
 "nbformat_minor": 2
}
